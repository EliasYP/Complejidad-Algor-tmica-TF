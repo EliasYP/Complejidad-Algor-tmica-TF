{
  "cells": [
    {
      "cell_type": "code",
      "execution_count": 11,
      "metadata": {
        "colab": {
          "base_uri": "https://localhost:8080/",
          "height": 516
        },
        "id": "Md2zchO0Gepw",
        "outputId": "2592e75e-6b0f-459d-bd49-9e93b759ff3d"
      },
      "outputs": [
        {
          "data": {
            "image/png": "[encoded data removed]",
            "text/plain": [
              "<Figure size 640x480 with 1 Axes>"
            ]
          },
          "metadata": {},
          "output_type": "display_data"
        }
      ],
      "source": [
        "import networkx as nx\n",
        "import matplotlib.pyplot as plt\n",
        "\n",
        "G = nx.Graph()\n",
        "G.add_edges_from([(1, 2), (1, 3), (2, 4), (2, 5), (3, 6), (3, 7), (4, 8), (4, 9), (5, 10), (5, 11)])\n",
        "nx.draw(G, with_labels=True)\n",
        "plt.show()"
      ]
    },
    {
      "cell_type": "code",
      "execution_count": 1,
      "metadata": {
        "colab": {
          "base_uri": "https://localhost:8080/"
        },
        "id": "_PyPp-YHJwwr",
        "outputId": "8f01ad72-bc65-4b7e-c5be-ffd8e907f38a"
      },
      "outputs": [
        {
          "ename": "FileNotFoundError",
          "evalue": "[Errno 2] No such file or directory: '3980.edges'",
          "output_type": "error",
          "traceback": [
            "\u001b[1;31m---------------------------------------------------------------------------\u001b[0m",
            "\u001b[1;31mFileNotFoundError\u001b[0m                         Traceback (most recent call last)",
            "Cell \u001b[1;32mIn[1], line 2\u001b[0m\n\u001b[0;32m      1\u001b[0m adj \u001b[38;5;241m=\u001b[39m \u001b[38;5;28mdict\u001b[39m()\n\u001b[1;32m----> 2\u001b[0m \u001b[38;5;28;01mwith\u001b[39;00m \u001b[38;5;28;43mopen\u001b[39;49m\u001b[43m(\u001b[49m\u001b[38;5;124;43m'\u001b[39;49m\u001b[38;5;124;43m3980.edges\u001b[39;49m\u001b[38;5;124;43m'\u001b[39;49m\u001b[43m,\u001b[49m\u001b[43m \u001b[49m\u001b[38;5;124;43m'\u001b[39;49m\u001b[38;5;124;43mr\u001b[39;49m\u001b[38;5;124;43m'\u001b[39;49m\u001b[43m)\u001b[49m \u001b[38;5;28;01mas\u001b[39;00m f:\n\u001b[0;32m      3\u001b[0m   lines \u001b[38;5;241m=\u001b[39m [[\u001b[38;5;28mint\u001b[39m(words) \u001b[38;5;28;01mfor\u001b[39;00m words \u001b[38;5;129;01min\u001b[39;00m line\u001b[38;5;241m.\u001b[39msplit()] \u001b[38;5;28;01mfor\u001b[39;00m line \u001b[38;5;129;01min\u001b[39;00m f\u001b[38;5;241m.\u001b[39mreadlines()]\n\u001b[0;32m      5\u001b[0m \u001b[38;5;28;01mfor\u001b[39;00m edge \u001b[38;5;129;01min\u001b[39;00m lines:\n",
            "File \u001b[1;32m~\\AppData\\Roaming\\Python\\Python312\\site-packages\\IPython\\core\\interactiveshell.py:324\u001b[0m, in \u001b[0;36m_modified_open\u001b[1;34m(file, *args, **kwargs)\u001b[0m\n\u001b[0;32m    317\u001b[0m \u001b[38;5;28;01mif\u001b[39;00m file \u001b[38;5;129;01min\u001b[39;00m {\u001b[38;5;241m0\u001b[39m, \u001b[38;5;241m1\u001b[39m, \u001b[38;5;241m2\u001b[39m}:\n\u001b[0;32m    318\u001b[0m     \u001b[38;5;28;01mraise\u001b[39;00m \u001b[38;5;167;01mValueError\u001b[39;00m(\n\u001b[0;32m    319\u001b[0m         \u001b[38;5;124mf\u001b[39m\u001b[38;5;124m\"\u001b[39m\u001b[38;5;124mIPython won\u001b[39m\u001b[38;5;124m'\u001b[39m\u001b[38;5;124mt let you open fd=\u001b[39m\u001b[38;5;132;01m{\u001b[39;00mfile\u001b[38;5;132;01m}\u001b[39;00m\u001b[38;5;124m by default \u001b[39m\u001b[38;5;124m\"\u001b[39m\n\u001b[0;32m    320\u001b[0m         \u001b[38;5;124m\"\u001b[39m\u001b[38;5;124mas it is likely to crash IPython. If you know what you are doing, \u001b[39m\u001b[38;5;124m\"\u001b[39m\n\u001b[0;32m    321\u001b[0m         \u001b[38;5;124m\"\u001b[39m\u001b[38;5;124myou can use builtins\u001b[39m\u001b[38;5;124m'\u001b[39m\u001b[38;5;124m open.\u001b[39m\u001b[38;5;124m\"\u001b[39m\n\u001b[0;32m    322\u001b[0m     )\n\u001b[1;32m--> 324\u001b[0m \u001b[38;5;28;01mreturn\u001b[39;00m \u001b[43mio_open\u001b[49m\u001b[43m(\u001b[49m\u001b[43mfile\u001b[49m\u001b[43m,\u001b[49m\u001b[43m \u001b[49m\u001b[38;5;241;43m*\u001b[39;49m\u001b[43margs\u001b[49m\u001b[43m,\u001b[49m\u001b[43m \u001b[49m\u001b[38;5;241;43m*\u001b[39;49m\u001b[38;5;241;43m*\u001b[39;49m\u001b[43mkwargs\u001b[49m\u001b[43m)\u001b[49m\n",
            "\u001b[1;31mFileNotFoundError\u001b[0m: [Errno 2] No such file or directory: '3980.edges'"
          ]
        }
      ],
      "source": [
        "adj = dict()\n",
        "with open('3980.edges', 'r') as f:\n",
        "  lines = [[int(words) for words in line.split()] for line in f.readlines()]\n",
        "\n",
        "for edge in lines:\n",
        "  a, b = edge\n",
        "  if a in adj:\n",
        "    adj[a].append(b)\n",
        "  else:\n",
        "    adj[a] = [b]\n",
        "\n",
        "print(adj)"
      ]
    },
    {
      "cell_type": "code",
      "execution_count": 2,
      "metadata": {},
      "outputs": [
        {
          "ename": "KeyError",
          "evalue": "'ACOMAYO'",
          "output_type": "error",
          "traceback": [
            "\u001b[1;31m---------------------------------------------------------------------------\u001b[0m",
            "\u001b[1;31mKeyError\u001b[0m                                  Traceback (most recent call last)",
            "File \u001b[1;32mc:\\Users\\Marcos\\AppData\\Local\\Programs\\Python\\Python312\\Lib\\site-packages\\pandas\\core\\indexes\\base.py:3805\u001b[0m, in \u001b[0;36mIndex.get_loc\u001b[1;34m(self, key)\u001b[0m\n\u001b[0;32m   3804\u001b[0m \u001b[38;5;28;01mtry\u001b[39;00m:\n\u001b[1;32m-> 3805\u001b[0m     \u001b[38;5;28;01mreturn\u001b[39;00m \u001b[38;5;28;43mself\u001b[39;49m\u001b[38;5;241;43m.\u001b[39;49m\u001b[43m_engine\u001b[49m\u001b[38;5;241;43m.\u001b[39;49m\u001b[43mget_loc\u001b[49m\u001b[43m(\u001b[49m\u001b[43mcasted_key\u001b[49m\u001b[43m)\u001b[49m\n\u001b[0;32m   3806\u001b[0m \u001b[38;5;28;01mexcept\u001b[39;00m \u001b[38;5;167;01mKeyError\u001b[39;00m \u001b[38;5;28;01mas\u001b[39;00m err:\n",
            "File \u001b[1;32mindex.pyx:167\u001b[0m, in \u001b[0;36mpandas._libs.index.IndexEngine.get_loc\u001b[1;34m()\u001b[0m\n",
            "File \u001b[1;32mindex.pyx:196\u001b[0m, in \u001b[0;36mpandas._libs.index.IndexEngine.get_loc\u001b[1;34m()\u001b[0m\n",
            "File \u001b[1;32mpandas\\\\_libs\\\\hashtable_class_helper.pxi:7081\u001b[0m, in \u001b[0;36mpandas._libs.hashtable.PyObjectHashTable.get_item\u001b[1;34m()\u001b[0m\n",
            "File \u001b[1;32mpandas\\\\_libs\\\\hashtable_class_helper.pxi:7089\u001b[0m, in \u001b[0;36mpandas._libs.hashtable.PyObjectHashTable.get_item\u001b[1;34m()\u001b[0m\n",
            "\u001b[1;31mKeyError\u001b[0m: 'ACOMAYO'",
            "\nThe above exception was the direct cause of the following exception:\n",
            "\u001b[1;31mKeyError\u001b[0m                                  Traceback (most recent call last)",
            "Cell \u001b[1;32mIn[2], line 17\u001b[0m\n\u001b[0;32m     15\u001b[0m \u001b[38;5;66;03m# 4. Añadir nodos y aristas\u001b[39;00m\n\u001b[0;32m     16\u001b[0m \u001b[38;5;28;01mfor\u001b[39;00m _, row \u001b[38;5;129;01min\u001b[39;00m provincia_filtrada\u001b[38;5;241m.\u001b[39miterrows():\n\u001b[1;32m---> 17\u001b[0m     distrito1 \u001b[38;5;241m=\u001b[39m \u001b[43mrow\u001b[49m\u001b[43m[\u001b[49m\u001b[38;5;124;43m'\u001b[39;49m\u001b[38;5;124;43mACOMAYO\u001b[39;49m\u001b[38;5;124;43m'\u001b[39;49m\u001b[43m]\u001b[49m\n\u001b[0;32m     18\u001b[0m     distrito2 \u001b[38;5;241m=\u001b[39m row[\u001b[38;5;124m'\u001b[39m\u001b[38;5;124mACOPIA\u001b[39m\u001b[38;5;124m'\u001b[39m]\n\u001b[0;32m     19\u001b[0m     G\u001b[38;5;241m.\u001b[39madd_node(distrito1)\n",
            "File \u001b[1;32mc:\\Users\\Marcos\\AppData\\Local\\Programs\\Python\\Python312\\Lib\\site-packages\\pandas\\core\\series.py:1121\u001b[0m, in \u001b[0;36mSeries.__getitem__\u001b[1;34m(self, key)\u001b[0m\n\u001b[0;32m   1118\u001b[0m     \u001b[38;5;28;01mreturn\u001b[39;00m \u001b[38;5;28mself\u001b[39m\u001b[38;5;241m.\u001b[39m_values[key]\n\u001b[0;32m   1120\u001b[0m \u001b[38;5;28;01melif\u001b[39;00m key_is_scalar:\n\u001b[1;32m-> 1121\u001b[0m     \u001b[38;5;28;01mreturn\u001b[39;00m \u001b[38;5;28;43mself\u001b[39;49m\u001b[38;5;241;43m.\u001b[39;49m\u001b[43m_get_value\u001b[49m\u001b[43m(\u001b[49m\u001b[43mkey\u001b[49m\u001b[43m)\u001b[49m\n\u001b[0;32m   1123\u001b[0m \u001b[38;5;66;03m# Convert generator to list before going through hashable part\u001b[39;00m\n\u001b[0;32m   1124\u001b[0m \u001b[38;5;66;03m# (We will iterate through the generator there to check for slices)\u001b[39;00m\n\u001b[0;32m   1125\u001b[0m \u001b[38;5;28;01mif\u001b[39;00m is_iterator(key):\n",
            "File \u001b[1;32mc:\\Users\\Marcos\\AppData\\Local\\Programs\\Python\\Python312\\Lib\\site-packages\\pandas\\core\\series.py:1237\u001b[0m, in \u001b[0;36mSeries._get_value\u001b[1;34m(self, label, takeable)\u001b[0m\n\u001b[0;32m   1234\u001b[0m     \u001b[38;5;28;01mreturn\u001b[39;00m \u001b[38;5;28mself\u001b[39m\u001b[38;5;241m.\u001b[39m_values[label]\n\u001b[0;32m   1236\u001b[0m \u001b[38;5;66;03m# Similar to Index.get_value, but we do not fall back to positional\u001b[39;00m\n\u001b[1;32m-> 1237\u001b[0m loc \u001b[38;5;241m=\u001b[39m \u001b[38;5;28;43mself\u001b[39;49m\u001b[38;5;241;43m.\u001b[39;49m\u001b[43mindex\u001b[49m\u001b[38;5;241;43m.\u001b[39;49m\u001b[43mget_loc\u001b[49m\u001b[43m(\u001b[49m\u001b[43mlabel\u001b[49m\u001b[43m)\u001b[49m\n\u001b[0;32m   1239\u001b[0m \u001b[38;5;28;01mif\u001b[39;00m is_integer(loc):\n\u001b[0;32m   1240\u001b[0m     \u001b[38;5;28;01mreturn\u001b[39;00m \u001b[38;5;28mself\u001b[39m\u001b[38;5;241m.\u001b[39m_values[loc]\n",
            "File \u001b[1;32mc:\\Users\\Marcos\\AppData\\Local\\Programs\\Python\\Python312\\Lib\\site-packages\\pandas\\core\\indexes\\base.py:3812\u001b[0m, in \u001b[0;36mIndex.get_loc\u001b[1;34m(self, key)\u001b[0m\n\u001b[0;32m   3807\u001b[0m     \u001b[38;5;28;01mif\u001b[39;00m \u001b[38;5;28misinstance\u001b[39m(casted_key, \u001b[38;5;28mslice\u001b[39m) \u001b[38;5;129;01mor\u001b[39;00m (\n\u001b[0;32m   3808\u001b[0m         \u001b[38;5;28misinstance\u001b[39m(casted_key, abc\u001b[38;5;241m.\u001b[39mIterable)\n\u001b[0;32m   3809\u001b[0m         \u001b[38;5;129;01mand\u001b[39;00m \u001b[38;5;28many\u001b[39m(\u001b[38;5;28misinstance\u001b[39m(x, \u001b[38;5;28mslice\u001b[39m) \u001b[38;5;28;01mfor\u001b[39;00m x \u001b[38;5;129;01min\u001b[39;00m casted_key)\n\u001b[0;32m   3810\u001b[0m     ):\n\u001b[0;32m   3811\u001b[0m         \u001b[38;5;28;01mraise\u001b[39;00m InvalidIndexError(key)\n\u001b[1;32m-> 3812\u001b[0m     \u001b[38;5;28;01mraise\u001b[39;00m \u001b[38;5;167;01mKeyError\u001b[39;00m(key) \u001b[38;5;28;01mfrom\u001b[39;00m \u001b[38;5;21;01merr\u001b[39;00m\n\u001b[0;32m   3813\u001b[0m \u001b[38;5;28;01mexcept\u001b[39;00m \u001b[38;5;167;01mTypeError\u001b[39;00m:\n\u001b[0;32m   3814\u001b[0m     \u001b[38;5;66;03m# If we have a listlike key, _check_indexing_error will raise\u001b[39;00m\n\u001b[0;32m   3815\u001b[0m     \u001b[38;5;66;03m#  InvalidIndexError. Otherwise we fall through and re-raise\u001b[39;00m\n\u001b[0;32m   3816\u001b[0m     \u001b[38;5;66;03m#  the TypeError.\u001b[39;00m\n\u001b[0;32m   3817\u001b[0m     \u001b[38;5;28mself\u001b[39m\u001b[38;5;241m.\u001b[39m_check_indexing_error(key)\n",
            "\u001b[1;31mKeyError\u001b[0m: 'ACOMAYO'"
          ]
        }
      ],
      "source": [
        "import pandas as pd\n",
        "import networkx as nx\n",
        "import matplotlib.pyplot as plt\n",
        "\n",
        "\n",
        "# 1. Leer el archivo CSV\n",
        "df = pd.read_csv('Indicadores_de_Cobertura_en_el_Servicio_de_Agua_Potable_en_el_Departamento_de_Cusco_2016_2019.csv')\n",
        "df.columns = df.columns.str.strip()\n",
        "# 2. Filtrar por una provincia (por ejemplo, 'ProvinciaX')\n",
        "provincia_filtrada = df[df['PROVINCIA'] == 'ACOMAYO']\n",
        "\n",
        "# 3. Crear el grafo usando NetworkX\n",
        "G = nx.Graph()\n",
        "\n",
        "# 4. Añadir nodos y aristas\n",
        "for _, row in provincia_filtrada.iterrows():\n",
        "    distrito1 = row['ACOMAYO']\n",
        "    distrito2 = row['ACOPIA']\n",
        "    G.add_node(distrito1)\n",
        "    G.add_node(distrito2)\n",
        "    G.add_edge(distrito1, distrito2)  # Conexión entre los distritos\n",
        "\n",
        "# 5. Dibujar el grafo\n",
        "nx.draw(G, with_labels=True, node_size=700, node_color=\"skyblue\", font_size=10, font_weight=\"bold\")\n",
        "plt.show()\n",
        "\n",
        "print(df.columns)"
      ]
    },
    {
      "cell_type": "code",
      "execution_count": 13,
      "metadata": {
        "colab": {
          "base_uri": "https://localhost:8080/",
          "height": 516
        },
        "id": "k5-_lifwJ7Zx",
        "outputId": "dff2f681-677b-497e-cfe7-766beb58fa52"
      },
      "outputs": [
        {
          "data": {
            "image/png": "[encoded data removed]",
            "text/plain": [
              "<Figure size 640x480 with 1 Axes>"
            ]
          },
          "metadata": {},
          "output_type": "display_data"
        }
      ],
      "source": [
        "G = nx.Graph()\n",
        "\n",
        "for node in adj.keys():\n",
        "  G.add_node(node)\n",
        "\n",
        "edges = set()\n",
        "\n",
        "for v, nbs in adj.items():\n",
        "  for nb in nbs:\n",
        "    if (nb, v) not in edges or (v, nb) not in edges:\n",
        "      edges.add((v, nb))\n",
        "      G.add_edge(v, nb)\n",
        "\n",
        "pos = nx.spring_layout(G, k=1, iterations=100)\n",
        "\n",
        "nx.draw(G, node_size=50, with_labels=False)\n",
        "plt.show()"
      ]
    },
    {
      "cell_type": "code",
      "execution_count": 2,
      "metadata": {
        "id": "yKaWJThSMVrm"
      },
      "outputs": [],
      "source": [
        "from pyvis.network import Network\n",
        "from IPython.display import HTML"
      ]
    },
    {
      "cell_type": "code",
      "execution_count": 18,
      "metadata": {
        "colab": {
          "base_uri": "https://localhost:8080/",
          "height": 627
        },
        "id": "9xQM2u2vMf5V",
        "outputId": "5cacf3e8-2865-434a-e9cb-905c4a60d996"
      },
      "outputs": [
        {
          "ename": "UnicodeEncodeError",
          "evalue": "'charmap' codec can't encode characters in position 263607-263621: character maps to <undefined>",
          "output_type": "error",
          "traceback": [
            "\u001b[1;31m---------------------------------------------------------------------------\u001b[0m",
            "\u001b[1;31mUnicodeEncodeError\u001b[0m                        Traceback (most recent call last)",
            "Cell \u001b[1;32mIn[18], line 14\u001b[0m\n\u001b[0;32m     11\u001b[0m       edges\u001b[38;5;241m.\u001b[39madd((v, nb))\n\u001b[0;32m     12\u001b[0m       net\u001b[38;5;241m.\u001b[39madd_edge(v, nb)\n\u001b[1;32m---> 14\u001b[0m \u001b[43mnet\u001b[49m\u001b[38;5;241;43m.\u001b[39;49m\u001b[43msave_graph\u001b[49m\u001b[43m(\u001b[49m\u001b[38;5;124;43m'\u001b[39;49m\u001b[38;5;124;43mg.html\u001b[39;49m\u001b[38;5;124;43m'\u001b[39;49m\u001b[43m)\u001b[49m\n\u001b[0;32m     15\u001b[0m HTML(filename\u001b[38;5;241m=\u001b[39m\u001b[38;5;124m'\u001b[39m\u001b[38;5;124mg.html\u001b[39m\u001b[38;5;124m'\u001b[39m)\n",
            "File \u001b[1;32mc:\\Users\\Marcos\\AppData\\Local\\Programs\\Python\\Python312\\Lib\\site-packages\\pyvis\\network.py:438\u001b[0m, in \u001b[0;36mNetwork.save_graph\u001b[1;34m(self, name)\u001b[0m\n\u001b[0;32m    431\u001b[0m \u001b[38;5;250m\u001b[39m\u001b[38;5;124;03m\"\"\"\u001b[39;00m\n\u001b[0;32m    432\u001b[0m \u001b[38;5;124;03mSave the graph as html in the current directory with name.\u001b[39;00m\n\u001b[0;32m    433\u001b[0m \n\u001b[0;32m    434\u001b[0m \u001b[38;5;124;03m:param name: the name of the html file to save as\u001b[39;00m\n\u001b[0;32m    435\u001b[0m \u001b[38;5;124;03m:type name: str\u001b[39;00m\n\u001b[0;32m    436\u001b[0m \u001b[38;5;124;03m\"\"\"\u001b[39;00m\n\u001b[0;32m    437\u001b[0m check_html(name)\n\u001b[1;32m--> 438\u001b[0m \u001b[38;5;28;43mself\u001b[39;49m\u001b[38;5;241;43m.\u001b[39;49m\u001b[43mwrite_html\u001b[49m\u001b[43m(\u001b[49m\u001b[43mname\u001b[49m\u001b[43m)\u001b[49m\n",
            "File \u001b[1;32mc:\\Users\\Marcos\\AppData\\Local\\Programs\\Python\\Python312\\Lib\\site-packages\\pyvis\\network.py:530\u001b[0m, in \u001b[0;36mNetwork.write_html\u001b[1;34m(self, name, local, notebook, open_browser)\u001b[0m\n\u001b[0;32m    528\u001b[0m \u001b[38;5;28;01melif\u001b[39;00m \u001b[38;5;28mself\u001b[39m\u001b[38;5;241m.\u001b[39mcdn_resources \u001b[38;5;241m==\u001b[39m \u001b[38;5;124m\"\u001b[39m\u001b[38;5;124min_line\u001b[39m\u001b[38;5;124m\"\u001b[39m \u001b[38;5;129;01mor\u001b[39;00m \u001b[38;5;28mself\u001b[39m\u001b[38;5;241m.\u001b[39mcdn_resources \u001b[38;5;241m==\u001b[39m \u001b[38;5;124m\"\u001b[39m\u001b[38;5;124mremote\u001b[39m\u001b[38;5;124m\"\u001b[39m:\n\u001b[0;32m    529\u001b[0m     \u001b[38;5;28;01mwith\u001b[39;00m \u001b[38;5;28mopen\u001b[39m(getcwd_name, \u001b[38;5;124m\"\u001b[39m\u001b[38;5;124mw+\u001b[39m\u001b[38;5;124m\"\u001b[39m) \u001b[38;5;28;01mas\u001b[39;00m out:\n\u001b[1;32m--> 530\u001b[0m         \u001b[43mout\u001b[49m\u001b[38;5;241;43m.\u001b[39;49m\u001b[43mwrite\u001b[49m\u001b[43m(\u001b[49m\u001b[38;5;28;43mself\u001b[39;49m\u001b[38;5;241;43m.\u001b[39;49m\u001b[43mhtml\u001b[49m\u001b[43m)\u001b[49m\n\u001b[0;32m    531\u001b[0m \u001b[38;5;28;01melse\u001b[39;00m:\n\u001b[0;32m    532\u001b[0m     \u001b[38;5;28;01massert\u001b[39;00m \u001b[38;5;124m\"\u001b[39m\u001b[38;5;124mcdn_resources is not in [\u001b[39m\u001b[38;5;124m'\u001b[39m\u001b[38;5;124min_line\u001b[39m\u001b[38;5;124m'\u001b[39m\u001b[38;5;124m,\u001b[39m\u001b[38;5;124m'\u001b[39m\u001b[38;5;124mremote\u001b[39m\u001b[38;5;124m'\u001b[39m\u001b[38;5;124m,\u001b[39m\u001b[38;5;124m'\u001b[39m\u001b[38;5;124mlocal\u001b[39m\u001b[38;5;124m'\u001b[39m\u001b[38;5;124m].\u001b[39m\u001b[38;5;124m\"\u001b[39m\n",
            "File \u001b[1;32mc:\\Users\\Marcos\\AppData\\Local\\Programs\\Python\\Python312\\Lib\\encodings\\cp1252.py:19\u001b[0m, in \u001b[0;36mIncrementalEncoder.encode\u001b[1;34m(self, input, final)\u001b[0m\n\u001b[0;32m     18\u001b[0m \u001b[38;5;28;01mdef\u001b[39;00m \u001b[38;5;21mencode\u001b[39m(\u001b[38;5;28mself\u001b[39m, \u001b[38;5;28minput\u001b[39m, final\u001b[38;5;241m=\u001b[39m\u001b[38;5;28;01mFalse\u001b[39;00m):\n\u001b[1;32m---> 19\u001b[0m     \u001b[38;5;28;01mreturn\u001b[39;00m \u001b[43mcodecs\u001b[49m\u001b[38;5;241;43m.\u001b[39;49m\u001b[43mcharmap_encode\u001b[49m\u001b[43m(\u001b[49m\u001b[38;5;28;43minput\u001b[39;49m\u001b[43m,\u001b[49m\u001b[38;5;28;43mself\u001b[39;49m\u001b[38;5;241;43m.\u001b[39;49m\u001b[43merrors\u001b[49m\u001b[43m,\u001b[49m\u001b[43mencoding_table\u001b[49m\u001b[43m)\u001b[49m[\u001b[38;5;241m0\u001b[39m]\n",
            "\u001b[1;31mUnicodeEncodeError\u001b[0m: 'charmap' codec can't encode characters in position 263607-263621: character maps to <undefined>"
          ]
        }
      ],
      "source": [
        "net = Network(notebook=True, cdn_resources='in_line')\n",
        "\n",
        "for node in adj.keys():\n",
        "  net.add_node(node, label=str(node))\n",
        "\n",
        "edges = set()\n",
        "\n",
        "for v, nbs in adj.items():\n",
        "  for nb in nbs:\n",
        "    if (nb, v) not in edges or (v, nb) not in edges:\n",
        "      edges.add((v, nb))\n",
        "      net.add_edge(v, nb)\n",
        "\n",
        "net.save_graph('g.html')\n",
        "HTML(filename='g.html')"
      ]
    },
    {
      "cell_type": "code",
      "execution_count": 3,
      "metadata": {
        "id": "jTWM7Pg_NTEZ"
      },
      "outputs": [],
      "source": [
        "def bfs(adj, start, dest):\n",
        "  queue = [start]\n",
        "  visited = set()\n",
        "  parent = dict()\n",
        "  while queue:\n",
        "    node = queue.pop(0)\n",
        "    if node == dest:\n",
        "      break\n",
        "    if node in visited:\n",
        "      continue\n",
        "    visited.add(node)\n",
        "    for nb in adj[node]:\n",
        "      if nb not in parent:\n",
        "        parent[nb] = node\n",
        "      if nb not in visited:\n",
        "        queue.append(nb)\n",
        "\n",
        "  path = []\n",
        "  node = dest\n",
        "  while node != start:\n",
        "    path.append((parent[node], node))\n",
        "    node = parent[node]\n",
        "  path.reverse()\n",
        "  return path"
      ]
    },
    {
      "cell_type": "code",
      "execution_count": 4,
      "metadata": {
        "colab": {
          "base_uri": "https://localhost:8080/"
        },
        "id": "j9QrYZBpOEiT",
        "outputId": "1a687299-89a1-41ec-e50e-fccf6821826d"
      },
      "outputs": [
        {
          "ename": "KeyError",
          "evalue": "4002",
          "output_type": "error",
          "traceback": [
            "\u001b[1;31m---------------------------------------------------------------------------\u001b[0m",
            "\u001b[1;31mKeyError\u001b[0m                                  Traceback (most recent call last)",
            "Cell \u001b[1;32mIn[4], line 1\u001b[0m\n\u001b[1;32m----> 1\u001b[0m \u001b[43mbfs\u001b[49m\u001b[43m(\u001b[49m\u001b[43madj\u001b[49m\u001b[43m,\u001b[49m\u001b[43m \u001b[49m\u001b[38;5;241;43m4002\u001b[39;49m\u001b[43m,\u001b[49m\u001b[43m \u001b[49m\u001b[38;5;241;43m4021\u001b[39;49m\u001b[43m)\u001b[49m\n",
            "Cell \u001b[1;32mIn[3], line 12\u001b[0m, in \u001b[0;36mbfs\u001b[1;34m(adj, start, dest)\u001b[0m\n\u001b[0;32m     10\u001b[0m   \u001b[38;5;28;01mcontinue\u001b[39;00m\n\u001b[0;32m     11\u001b[0m visited\u001b[38;5;241m.\u001b[39madd(node)\n\u001b[1;32m---> 12\u001b[0m \u001b[38;5;28;01mfor\u001b[39;00m nb \u001b[38;5;129;01min\u001b[39;00m \u001b[43madj\u001b[49m\u001b[43m[\u001b[49m\u001b[43mnode\u001b[49m\u001b[43m]\u001b[49m:\n\u001b[0;32m     13\u001b[0m   \u001b[38;5;28;01mif\u001b[39;00m nb \u001b[38;5;129;01mnot\u001b[39;00m \u001b[38;5;129;01min\u001b[39;00m parent:\n\u001b[0;32m     14\u001b[0m     parent[nb] \u001b[38;5;241m=\u001b[39m node\n",
            "\u001b[1;31mKeyError\u001b[0m: 4002"
          ]
        }
      ],
      "source": [
        "bfs(adj, 4002, 4021)"
      ]
    },
    {
      "cell_type": "code",
      "execution_count": 5,
      "metadata": {
        "colab": {
          "base_uri": "https://localhost:8080/",
          "height": 627
        },
        "id": "RaIXki_DOMgt",
        "outputId": "c97f4ed8-271c-4c74-8d2f-8a0e1f486d03"
      },
      "outputs": [
        {
          "ename": "KeyError",
          "evalue": "4002",
          "output_type": "error",
          "traceback": [
            "\u001b[1;31m---------------------------------------------------------------------------\u001b[0m",
            "\u001b[1;31mKeyError\u001b[0m                                  Traceback (most recent call last)",
            "Cell \u001b[1;32mIn[5], line 6\u001b[0m\n\u001b[0;32m      3\u001b[0m \u001b[38;5;28;01mfor\u001b[39;00m node \u001b[38;5;129;01min\u001b[39;00m adj\u001b[38;5;241m.\u001b[39mkeys():\n\u001b[0;32m      4\u001b[0m   net\u001b[38;5;241m.\u001b[39madd_node(node, label\u001b[38;5;241m=\u001b[39m\u001b[38;5;28mstr\u001b[39m(node))\n\u001b[1;32m----> 6\u001b[0m path \u001b[38;5;241m=\u001b[39m \u001b[38;5;28mset\u001b[39m(\u001b[43mbfs\u001b[49m\u001b[43m(\u001b[49m\u001b[43madj\u001b[49m\u001b[43m,\u001b[49m\u001b[43m \u001b[49m\u001b[38;5;241;43m4002\u001b[39;49m\u001b[43m,\u001b[49m\u001b[43m \u001b[49m\u001b[38;5;241;43m4032\u001b[39;49m\u001b[43m)\u001b[49m)\n\u001b[0;32m      7\u001b[0m edges \u001b[38;5;241m=\u001b[39m \u001b[38;5;28mset\u001b[39m()\n\u001b[0;32m      9\u001b[0m \u001b[38;5;28;01mfor\u001b[39;00m v, nbs \u001b[38;5;129;01min\u001b[39;00m adj\u001b[38;5;241m.\u001b[39mitems():\n",
            "Cell \u001b[1;32mIn[3], line 12\u001b[0m, in \u001b[0;36mbfs\u001b[1;34m(adj, start, dest)\u001b[0m\n\u001b[0;32m     10\u001b[0m   \u001b[38;5;28;01mcontinue\u001b[39;00m\n\u001b[0;32m     11\u001b[0m visited\u001b[38;5;241m.\u001b[39madd(node)\n\u001b[1;32m---> 12\u001b[0m \u001b[38;5;28;01mfor\u001b[39;00m nb \u001b[38;5;129;01min\u001b[39;00m \u001b[43madj\u001b[49m\u001b[43m[\u001b[49m\u001b[43mnode\u001b[49m\u001b[43m]\u001b[49m:\n\u001b[0;32m     13\u001b[0m   \u001b[38;5;28;01mif\u001b[39;00m nb \u001b[38;5;129;01mnot\u001b[39;00m \u001b[38;5;129;01min\u001b[39;00m parent:\n\u001b[0;32m     14\u001b[0m     parent[nb] \u001b[38;5;241m=\u001b[39m node\n",
            "\u001b[1;31mKeyError\u001b[0m: 4002"
          ]
        }
      ],
      "source": [
        "net = Network(notebook=True, cdn_resources='in_line')\n",
        "\n",
        "for node in adj.keys():\n",
        "  net.add_node(node, label=str(node))\n",
        "\n",
        "path = set(bfs(adj, 4002, 4032))\n",
        "edges = set()\n",
        "\n",
        "for v, nbs in adj.items():\n",
        "  for nb in nbs:\n",
        "    if (nb, v) not in edges or (v, nb) not in edges:\n",
        "      edges.add((v, nb))\n",
        "      net.add_edge(v, nb, color='red' if (v, nb) in path or (nb, v) in path else 'grey')\n",
        "\n",
        "net.save_graph('g.html')\n",
        "HTML(filename='g.html')"
      ]
    },
    {
      "cell_type": "code",
      "execution_count": 7,
      "metadata": {
        "colab": {
          "base_uri": "https://localhost:8080/"
        },
        "id": "ASCdfCUYQKhC",
        "outputId": "1d8beea5-2f73-482a-fc75-ad26a2bd1bff"
      },
      "outputs": [
        {
          "name": "stdout",
          "output_type": "stream",
          "text": [
            "{}\n"
          ]
        }
      ],
      "source": [
        "from random import randint\n",
        "\n",
        "wadj = dict()\n",
        "for v, nbs in adj.items():\n",
        "  wadj[v] = [(u, randint(1, 10)) for u in nbs if u < v]\n",
        "\n",
        "\n",
        "# si u -w-> v\n",
        "# ... v -w-> u\n",
        "for v, nbs in wadj.items():\n",
        "  for nb, w in nbs:\n",
        "    if nb not in wadj:\n",
        "      wadj[nb] = [(v, w)]\n",
        "    else:\n",
        "      wadj[nb].append((v, w))\n",
        "\n",
        "print(wadj)"
      ]
    },
    {
      "cell_type": "code",
      "execution_count": 8,
      "metadata": {
        "colab": {
          "base_uri": "https://localhost:8080/",
          "height": 627
        },
        "id": "vSw8cYlERpry",
        "outputId": "940589fe-44fb-4460-d95d-4dee3a87961f"
      },
      "outputs": [
        {
          "ename": "UnicodeEncodeError",
          "evalue": "'charmap' codec can't encode characters in position 263607-263621: character maps to <undefined>",
          "output_type": "error",
          "traceback": [
            "\u001b[1;31m---------------------------------------------------------------------------\u001b[0m",
            "\u001b[1;31mUnicodeEncodeError\u001b[0m                        Traceback (most recent call last)",
            "Cell \u001b[1;32mIn[8], line 14\u001b[0m\n\u001b[0;32m     11\u001b[0m       edges\u001b[38;5;241m.\u001b[39madd((v, nb))\n\u001b[0;32m     12\u001b[0m       net\u001b[38;5;241m.\u001b[39madd_edge(v, nb, label\u001b[38;5;241m=\u001b[39m\u001b[38;5;28mstr\u001b[39m(w))\n\u001b[1;32m---> 14\u001b[0m \u001b[43mnet\u001b[49m\u001b[38;5;241;43m.\u001b[39;49m\u001b[43msave_graph\u001b[49m\u001b[43m(\u001b[49m\u001b[38;5;124;43m'\u001b[39;49m\u001b[38;5;124;43mg.html\u001b[39;49m\u001b[38;5;124;43m'\u001b[39;49m\u001b[43m)\u001b[49m\n\u001b[0;32m     15\u001b[0m HTML(filename\u001b[38;5;241m=\u001b[39m\u001b[38;5;124m'\u001b[39m\u001b[38;5;124mg.html\u001b[39m\u001b[38;5;124m'\u001b[39m)\n",
            "File \u001b[1;32mc:\\Users\\Marcos\\AppData\\Local\\Programs\\Python\\Python312\\Lib\\site-packages\\pyvis\\network.py:438\u001b[0m, in \u001b[0;36mNetwork.save_graph\u001b[1;34m(self, name)\u001b[0m\n\u001b[0;32m    431\u001b[0m \u001b[38;5;250m\u001b[39m\u001b[38;5;124;03m\"\"\"\u001b[39;00m\n\u001b[0;32m    432\u001b[0m \u001b[38;5;124;03mSave the graph as html in the current directory with name.\u001b[39;00m\n\u001b[0;32m    433\u001b[0m \n\u001b[0;32m    434\u001b[0m \u001b[38;5;124;03m:param name: the name of the html file to save as\u001b[39;00m\n\u001b[0;32m    435\u001b[0m \u001b[38;5;124;03m:type name: str\u001b[39;00m\n\u001b[0;32m    436\u001b[0m \u001b[38;5;124;03m\"\"\"\u001b[39;00m\n\u001b[0;32m    437\u001b[0m check_html(name)\n\u001b[1;32m--> 438\u001b[0m \u001b[38;5;28;43mself\u001b[39;49m\u001b[38;5;241;43m.\u001b[39;49m\u001b[43mwrite_html\u001b[49m\u001b[43m(\u001b[49m\u001b[43mname\u001b[49m\u001b[43m)\u001b[49m\n",
            "File \u001b[1;32mc:\\Users\\Marcos\\AppData\\Local\\Programs\\Python\\Python312\\Lib\\site-packages\\pyvis\\network.py:530\u001b[0m, in \u001b[0;36mNetwork.write_html\u001b[1;34m(self, name, local, notebook, open_browser)\u001b[0m\n\u001b[0;32m    528\u001b[0m \u001b[38;5;28;01melif\u001b[39;00m \u001b[38;5;28mself\u001b[39m\u001b[38;5;241m.\u001b[39mcdn_resources \u001b[38;5;241m==\u001b[39m \u001b[38;5;124m\"\u001b[39m\u001b[38;5;124min_line\u001b[39m\u001b[38;5;124m\"\u001b[39m \u001b[38;5;129;01mor\u001b[39;00m \u001b[38;5;28mself\u001b[39m\u001b[38;5;241m.\u001b[39mcdn_resources \u001b[38;5;241m==\u001b[39m \u001b[38;5;124m\"\u001b[39m\u001b[38;5;124mremote\u001b[39m\u001b[38;5;124m\"\u001b[39m:\n\u001b[0;32m    529\u001b[0m     \u001b[38;5;28;01mwith\u001b[39;00m \u001b[38;5;28mopen\u001b[39m(getcwd_name, \u001b[38;5;124m\"\u001b[39m\u001b[38;5;124mw+\u001b[39m\u001b[38;5;124m\"\u001b[39m) \u001b[38;5;28;01mas\u001b[39;00m out:\n\u001b[1;32m--> 530\u001b[0m         \u001b[43mout\u001b[49m\u001b[38;5;241;43m.\u001b[39;49m\u001b[43mwrite\u001b[49m\u001b[43m(\u001b[49m\u001b[38;5;28;43mself\u001b[39;49m\u001b[38;5;241;43m.\u001b[39;49m\u001b[43mhtml\u001b[49m\u001b[43m)\u001b[49m\n\u001b[0;32m    531\u001b[0m \u001b[38;5;28;01melse\u001b[39;00m:\n\u001b[0;32m    532\u001b[0m     \u001b[38;5;28;01massert\u001b[39;00m \u001b[38;5;124m\"\u001b[39m\u001b[38;5;124mcdn_resources is not in [\u001b[39m\u001b[38;5;124m'\u001b[39m\u001b[38;5;124min_line\u001b[39m\u001b[38;5;124m'\u001b[39m\u001b[38;5;124m,\u001b[39m\u001b[38;5;124m'\u001b[39m\u001b[38;5;124mremote\u001b[39m\u001b[38;5;124m'\u001b[39m\u001b[38;5;124m,\u001b[39m\u001b[38;5;124m'\u001b[39m\u001b[38;5;124mlocal\u001b[39m\u001b[38;5;124m'\u001b[39m\u001b[38;5;124m].\u001b[39m\u001b[38;5;124m\"\u001b[39m\n",
            "File \u001b[1;32mc:\\Users\\Marcos\\AppData\\Local\\Programs\\Python\\Python312\\Lib\\encodings\\cp1252.py:19\u001b[0m, in \u001b[0;36mIncrementalEncoder.encode\u001b[1;34m(self, input, final)\u001b[0m\n\u001b[0;32m     18\u001b[0m \u001b[38;5;28;01mdef\u001b[39;00m \u001b[38;5;21mencode\u001b[39m(\u001b[38;5;28mself\u001b[39m, \u001b[38;5;28minput\u001b[39m, final\u001b[38;5;241m=\u001b[39m\u001b[38;5;28;01mFalse\u001b[39;00m):\n\u001b[1;32m---> 19\u001b[0m     \u001b[38;5;28;01mreturn\u001b[39;00m \u001b[43mcodecs\u001b[49m\u001b[38;5;241;43m.\u001b[39;49m\u001b[43mcharmap_encode\u001b[49m\u001b[43m(\u001b[49m\u001b[38;5;28;43minput\u001b[39;49m\u001b[43m,\u001b[49m\u001b[38;5;28;43mself\u001b[39;49m\u001b[38;5;241;43m.\u001b[39;49m\u001b[43merrors\u001b[49m\u001b[43m,\u001b[49m\u001b[43mencoding_table\u001b[49m\u001b[43m)\u001b[49m[\u001b[38;5;241m0\u001b[39m]\n",
            "\u001b[1;31mUnicodeEncodeError\u001b[0m: 'charmap' codec can't encode characters in position 263607-263621: character maps to <undefined>"
          ]
        }
      ],
      "source": [
        "net = Network(notebook=True, cdn_resources='in_line')\n",
        "\n",
        "for node in wadj.keys():\n",
        "  net.add_node(node, label=str(node))\n",
        "\n",
        "edges = set()\n",
        "\n",
        "for v, nbs in wadj.items():\n",
        "  for nb, w in nbs:\n",
        "    if (nb, v) not in edges or (v, nb) not in edges:\n",
        "      edges.add((v, nb))\n",
        "      net.add_edge(v, nb, label=str(w))\n",
        "\n",
        "net.save_graph('g.html')\n",
        "HTML(filename='g.html')"
      ]
    },
    {
      "cell_type": "code",
      "execution_count": 9,
      "metadata": {
        "colab": {
          "base_uri": "https://localhost:8080/"
        },
        "id": "IHyJZTxvSLoP",
        "outputId": "45110a41-5165-4cc3-f0a1-e9bc0d464ea2"
      },
      "outputs": [
        {
          "ename": "KeyError",
          "evalue": "3999",
          "output_type": "error",
          "traceback": [
            "\u001b[1;31m---------------------------------------------------------------------------\u001b[0m",
            "\u001b[1;31mKeyError\u001b[0m                                  Traceback (most recent call last)",
            "Cell \u001b[1;32mIn[9], line 30\u001b[0m\n\u001b[0;32m     26\u001b[0m   path\u001b[38;5;241m.\u001b[39mreverse()\n\u001b[0;32m     28\u001b[0m   \u001b[38;5;28;01mreturn\u001b[39;00m path, dist[dest]\n\u001b[1;32m---> 30\u001b[0m \u001b[43mdijkstra\u001b[49m\u001b[43m(\u001b[49m\u001b[43mwadj\u001b[49m\u001b[43m,\u001b[49m\u001b[43m \u001b[49m\u001b[38;5;241;43m4002\u001b[39;49m\u001b[43m,\u001b[49m\u001b[43m \u001b[49m\u001b[38;5;241;43m3999\u001b[39;49m\u001b[43m)\u001b[49m\n",
            "Cell \u001b[1;32mIn[9], line 9\u001b[0m, in \u001b[0;36mdijkstra\u001b[1;34m(adj, start, dest)\u001b[0m\n\u001b[0;32m      6\u001b[0m dist[start] \u001b[38;5;241m=\u001b[39m \u001b[38;5;241m0\u001b[39m\n\u001b[0;32m      7\u001b[0m pq \u001b[38;5;241m=\u001b[39m [(\u001b[38;5;241m0\u001b[39m, start)]\n\u001b[1;32m----> 9\u001b[0m \u001b[38;5;28;01mwhile\u001b[39;00m pq \u001b[38;5;129;01mand\u001b[39;00m \u001b[43mdist\u001b[49m\u001b[43m[\u001b[49m\u001b[43mdest\u001b[49m\u001b[43m]\u001b[49m \u001b[38;5;241m==\u001b[39m \u001b[38;5;28mfloat\u001b[39m(\u001b[38;5;124m'\u001b[39m\u001b[38;5;124minf\u001b[39m\u001b[38;5;124m'\u001b[39m):\n\u001b[0;32m     10\u001b[0m   d, u \u001b[38;5;241m=\u001b[39m heapq\u001b[38;5;241m.\u001b[39mheappop(pq)\n\u001b[0;32m     12\u001b[0m   \u001b[38;5;28;01mif\u001b[39;00m d \u001b[38;5;241m>\u001b[39m dist[u]:\n",
            "\u001b[1;31mKeyError\u001b[0m: 3999"
          ]
        }
      ],
      "source": [
        "import heapq\n",
        "\n",
        "def dijkstra(adj, start, dest):\n",
        "  dist = {node: float('inf') for node in adj}\n",
        "  prev = {node : None for node in adj}\n",
        "  dist[start] = 0\n",
        "  pq = [(0, start)]\n",
        "\n",
        "  while pq and dist[dest] == float('inf'):\n",
        "    d, u = heapq.heappop(pq)\n",
        "\n",
        "    if d > dist[u]:\n",
        "      continue\n",
        "\n",
        "    for v, w in adj.get(u, []):\n",
        "      if dist[u] + w < dist[v]:\n",
        "        dist[v] = dist[u] + w\n",
        "        prev[v] = u\n",
        "        heapq.heappush(pq, (dist[v], v))\n",
        "\n",
        "  path = []\n",
        "  curr = dest\n",
        "  while curr != start:\n",
        "    path.append((prev[curr], curr))\n",
        "    curr = prev[curr]\n",
        "  path.reverse()\n",
        "\n",
        "  return path, dist[dest]\n",
        "\n",
        "dijkstra(wadj, 4002, 3999)\n"
      ]
    },
    {
      "cell_type": "code",
      "execution_count": 10,
      "metadata": {
        "colab": {
          "base_uri": "https://localhost:8080/",
          "height": 651
        },
        "id": "sQW9krGCUJot",
        "outputId": "80982e89-a769-428e-b78c-3f515451942e"
      },
      "outputs": [
        {
          "ename": "KeyError",
          "evalue": "4028",
          "output_type": "error",
          "traceback": [
            "\u001b[1;31m---------------------------------------------------------------------------\u001b[0m",
            "\u001b[1;31mKeyError\u001b[0m                                  Traceback (most recent call last)",
            "Cell \u001b[1;32mIn[10], line 6\u001b[0m\n\u001b[0;32m      3\u001b[0m \u001b[38;5;28;01mfor\u001b[39;00m node \u001b[38;5;129;01min\u001b[39;00m wadj\u001b[38;5;241m.\u001b[39mkeys():\n\u001b[0;32m      4\u001b[0m   net\u001b[38;5;241m.\u001b[39madd_node(node, label\u001b[38;5;241m=\u001b[39m\u001b[38;5;28mstr\u001b[39m(node))\n\u001b[1;32m----> 6\u001b[0m path, dist \u001b[38;5;241m=\u001b[39m \u001b[43mdijkstra\u001b[49m\u001b[43m(\u001b[49m\u001b[43mwadj\u001b[49m\u001b[43m,\u001b[49m\u001b[43m \u001b[49m\u001b[38;5;241;43m4014\u001b[39;49m\u001b[43m,\u001b[49m\u001b[43m \u001b[49m\u001b[38;5;241;43m4028\u001b[39;49m\u001b[43m)\u001b[49m\n\u001b[0;32m      7\u001b[0m path \u001b[38;5;241m=\u001b[39m \u001b[38;5;28mset\u001b[39m(path)\n\u001b[0;32m      8\u001b[0m edges \u001b[38;5;241m=\u001b[39m \u001b[38;5;28mset\u001b[39m()\n",
            "Cell \u001b[1;32mIn[9], line 9\u001b[0m, in \u001b[0;36mdijkstra\u001b[1;34m(adj, start, dest)\u001b[0m\n\u001b[0;32m      6\u001b[0m dist[start] \u001b[38;5;241m=\u001b[39m \u001b[38;5;241m0\u001b[39m\n\u001b[0;32m      7\u001b[0m pq \u001b[38;5;241m=\u001b[39m [(\u001b[38;5;241m0\u001b[39m, start)]\n\u001b[1;32m----> 9\u001b[0m \u001b[38;5;28;01mwhile\u001b[39;00m pq \u001b[38;5;129;01mand\u001b[39;00m \u001b[43mdist\u001b[49m\u001b[43m[\u001b[49m\u001b[43mdest\u001b[49m\u001b[43m]\u001b[49m \u001b[38;5;241m==\u001b[39m \u001b[38;5;28mfloat\u001b[39m(\u001b[38;5;124m'\u001b[39m\u001b[38;5;124minf\u001b[39m\u001b[38;5;124m'\u001b[39m):\n\u001b[0;32m     10\u001b[0m   d, u \u001b[38;5;241m=\u001b[39m heapq\u001b[38;5;241m.\u001b[39mheappop(pq)\n\u001b[0;32m     12\u001b[0m   \u001b[38;5;28;01mif\u001b[39;00m d \u001b[38;5;241m>\u001b[39m dist[u]:\n",
            "\u001b[1;31mKeyError\u001b[0m: 4028"
          ]
        }
      ],
      "source": [
        "net = Network(notebook=True, cdn_resources='in_line')\n",
        "\n",
        "for node in wadj.keys():\n",
        "  net.add_node(node, label=str(node))\n",
        "\n",
        "path, dist = dijkstra(wadj, 4014, 4028)\n",
        "path = set(path)\n",
        "edges = set()\n",
        "\n",
        "for v, nbs in wadj.items():\n",
        "  for nb, w in nbs:\n",
        "    if (nb, v) not in edges or (v, nb) not in edges:\n",
        "      edges.add((v, nb))\n",
        "      net.add_edge(v, nb, label=str(w), color='red' if (v, nb) in path or (nb, v) in path else 'grey')\n",
        "\n",
        "net.save_graph('g.html')\n",
        "print('min dist:', dist)\n",
        "HTML(filename='g.html')"
      ]
    },
    {
      "cell_type": "code",
      "execution_count": 11,
      "metadata": {
        "id": "6Ok51uRVW8TG"
      },
      "outputs": [],
      "source": [
        "def find(parent, i):\n",
        "  if parent[i] == i:\n",
        "    return i\n",
        "  parent[i] = find(parent, parent[i])\n",
        "  return parent[i]\n",
        "\n",
        "def union(parent, rank, x, y):\n",
        "  xroot = find(parent, x)\n",
        "  yroot = find(parent, y)\n",
        "  if rank[xroot] < rank[yroot]:\n",
        "    parent[xroot] = yroot\n",
        "  elif rank[xroot] > rank[yroot]:\n",
        "    parent[yroot] = xroot\n",
        "  else:\n",
        "    parent[yroot] = xroot\n",
        "    rank[xroot] += 1\n",
        "\n",
        "def kruskal(adj):\n",
        "  parent = {node: node for node in adj}\n",
        "  rank = {node: 0 for node in adj}\n",
        "  edges = []\n",
        "  for u in adj:\n",
        "    for v, w in adj[u]:\n",
        "      edges.append((w, u, v))\n",
        "  edges.sort()\n",
        "  mst = []\n",
        "  for w, u, v in edges:\n",
        "    if find(parent, u) != find(parent, v):\n",
        "      union(parent, rank, u, v)\n",
        "      mst.append((u, v, w))\n",
        "  return mst"
      ]
    },
    {
      "cell_type": "code",
      "execution_count": 12,
      "metadata": {
        "colab": {
          "base_uri": "https://localhost:8080/"
        },
        "id": "SHlsMspHXg6O",
        "outputId": "b0af23d3-ef79-447c-9f1f-2964f65e82ec"
      },
      "outputs": [
        {
          "name": "stdout",
          "output_type": "stream",
          "text": [
            "{}\n"
          ]
        }
      ],
      "source": [
        "mst = dict()\n",
        "\n",
        "for v, u, w in kruskal(wadj):\n",
        "  if v not in mst:\n",
        "    mst[v] = [(u, w)]\n",
        "  else:\n",
        "    mst[v].append((u, w))\n",
        "\n",
        "print(mst)"
      ]
    },
    {
      "cell_type": "code",
      "execution_count": 13,
      "metadata": {
        "colab": {
          "base_uri": "https://localhost:8080/",
          "height": 627
        },
        "id": "2v7D2Ir0XwYm",
        "outputId": "9d25c3fe-546f-4d08-c03d-061cf07bdbc6"
      },
      "outputs": [
        {
          "ename": "UnicodeEncodeError",
          "evalue": "'charmap' codec can't encode characters in position 263607-263621: character maps to <undefined>",
          "output_type": "error",
          "traceback": [
            "\u001b[1;31m---------------------------------------------------------------------------\u001b[0m",
            "\u001b[1;31mUnicodeEncodeError\u001b[0m                        Traceback (most recent call last)",
            "Cell \u001b[1;32mIn[13], line 16\u001b[0m\n\u001b[0;32m     13\u001b[0m       edges\u001b[38;5;241m.\u001b[39madd((v, nb))\n\u001b[0;32m     14\u001b[0m       net\u001b[38;5;241m.\u001b[39madd_edge(v, nb, label\u001b[38;5;241m=\u001b[39m\u001b[38;5;28mstr\u001b[39m(w))\n\u001b[1;32m---> 16\u001b[0m \u001b[43mnet\u001b[49m\u001b[38;5;241;43m.\u001b[39;49m\u001b[43msave_graph\u001b[49m\u001b[43m(\u001b[49m\u001b[38;5;124;43m'\u001b[39;49m\u001b[38;5;124;43mg.html\u001b[39;49m\u001b[38;5;124;43m'\u001b[39;49m\u001b[43m)\u001b[49m\n\u001b[0;32m     17\u001b[0m HTML(filename\u001b[38;5;241m=\u001b[39m\u001b[38;5;124m'\u001b[39m\u001b[38;5;124mg.html\u001b[39m\u001b[38;5;124m'\u001b[39m)\n",
            "File \u001b[1;32mc:\\Users\\Marcos\\AppData\\Local\\Programs\\Python\\Python312\\Lib\\site-packages\\pyvis\\network.py:438\u001b[0m, in \u001b[0;36mNetwork.save_graph\u001b[1;34m(self, name)\u001b[0m\n\u001b[0;32m    431\u001b[0m \u001b[38;5;250m\u001b[39m\u001b[38;5;124;03m\"\"\"\u001b[39;00m\n\u001b[0;32m    432\u001b[0m \u001b[38;5;124;03mSave the graph as html in the current directory with name.\u001b[39;00m\n\u001b[0;32m    433\u001b[0m \n\u001b[0;32m    434\u001b[0m \u001b[38;5;124;03m:param name: the name of the html file to save as\u001b[39;00m\n\u001b[0;32m    435\u001b[0m \u001b[38;5;124;03m:type name: str\u001b[39;00m\n\u001b[0;32m    436\u001b[0m \u001b[38;5;124;03m\"\"\"\u001b[39;00m\n\u001b[0;32m    437\u001b[0m check_html(name)\n\u001b[1;32m--> 438\u001b[0m \u001b[38;5;28;43mself\u001b[39;49m\u001b[38;5;241;43m.\u001b[39;49m\u001b[43mwrite_html\u001b[49m\u001b[43m(\u001b[49m\u001b[43mname\u001b[49m\u001b[43m)\u001b[49m\n",
            "File \u001b[1;32mc:\\Users\\Marcos\\AppData\\Local\\Programs\\Python\\Python312\\Lib\\site-packages\\pyvis\\network.py:530\u001b[0m, in \u001b[0;36mNetwork.write_html\u001b[1;34m(self, name, local, notebook, open_browser)\u001b[0m\n\u001b[0;32m    528\u001b[0m \u001b[38;5;28;01melif\u001b[39;00m \u001b[38;5;28mself\u001b[39m\u001b[38;5;241m.\u001b[39mcdn_resources \u001b[38;5;241m==\u001b[39m \u001b[38;5;124m\"\u001b[39m\u001b[38;5;124min_line\u001b[39m\u001b[38;5;124m\"\u001b[39m \u001b[38;5;129;01mor\u001b[39;00m \u001b[38;5;28mself\u001b[39m\u001b[38;5;241m.\u001b[39mcdn_resources \u001b[38;5;241m==\u001b[39m \u001b[38;5;124m\"\u001b[39m\u001b[38;5;124mremote\u001b[39m\u001b[38;5;124m\"\u001b[39m:\n\u001b[0;32m    529\u001b[0m     \u001b[38;5;28;01mwith\u001b[39;00m \u001b[38;5;28mopen\u001b[39m(getcwd_name, \u001b[38;5;124m\"\u001b[39m\u001b[38;5;124mw+\u001b[39m\u001b[38;5;124m\"\u001b[39m) \u001b[38;5;28;01mas\u001b[39;00m out:\n\u001b[1;32m--> 530\u001b[0m         \u001b[43mout\u001b[49m\u001b[38;5;241;43m.\u001b[39;49m\u001b[43mwrite\u001b[49m\u001b[43m(\u001b[49m\u001b[38;5;28;43mself\u001b[39;49m\u001b[38;5;241;43m.\u001b[39;49m\u001b[43mhtml\u001b[49m\u001b[43m)\u001b[49m\n\u001b[0;32m    531\u001b[0m \u001b[38;5;28;01melse\u001b[39;00m:\n\u001b[0;32m    532\u001b[0m     \u001b[38;5;28;01massert\u001b[39;00m \u001b[38;5;124m\"\u001b[39m\u001b[38;5;124mcdn_resources is not in [\u001b[39m\u001b[38;5;124m'\u001b[39m\u001b[38;5;124min_line\u001b[39m\u001b[38;5;124m'\u001b[39m\u001b[38;5;124m,\u001b[39m\u001b[38;5;124m'\u001b[39m\u001b[38;5;124mremote\u001b[39m\u001b[38;5;124m'\u001b[39m\u001b[38;5;124m,\u001b[39m\u001b[38;5;124m'\u001b[39m\u001b[38;5;124mlocal\u001b[39m\u001b[38;5;124m'\u001b[39m\u001b[38;5;124m].\u001b[39m\u001b[38;5;124m\"\u001b[39m\n",
            "File \u001b[1;32mc:\\Users\\Marcos\\AppData\\Local\\Programs\\Python\\Python312\\Lib\\encodings\\cp1252.py:19\u001b[0m, in \u001b[0;36mIncrementalEncoder.encode\u001b[1;34m(self, input, final)\u001b[0m\n\u001b[0;32m     18\u001b[0m \u001b[38;5;28;01mdef\u001b[39;00m \u001b[38;5;21mencode\u001b[39m(\u001b[38;5;28mself\u001b[39m, \u001b[38;5;28minput\u001b[39m, final\u001b[38;5;241m=\u001b[39m\u001b[38;5;28;01mFalse\u001b[39;00m):\n\u001b[1;32m---> 19\u001b[0m     \u001b[38;5;28;01mreturn\u001b[39;00m \u001b[43mcodecs\u001b[49m\u001b[38;5;241;43m.\u001b[39;49m\u001b[43mcharmap_encode\u001b[49m\u001b[43m(\u001b[49m\u001b[38;5;28;43minput\u001b[39;49m\u001b[43m,\u001b[49m\u001b[38;5;28;43mself\u001b[39;49m\u001b[38;5;241;43m.\u001b[39;49m\u001b[43merrors\u001b[49m\u001b[43m,\u001b[49m\u001b[43mencoding_table\u001b[49m\u001b[43m)\u001b[49m[\u001b[38;5;241m0\u001b[39m]\n",
            "\u001b[1;31mUnicodeEncodeError\u001b[0m: 'charmap' codec can't encode characters in position 263607-263621: character maps to <undefined>"
          ]
        }
      ],
      "source": [
        "net = Network(notebook=True, cdn_resources='in_line')\n",
        "\n",
        "for node in mst.keys():\n",
        "  net.add_node(node, label=str(node))\n",
        "  for nb, w in mst[node]:\n",
        "    net.add_node(nb, label=str(nb))\n",
        "\n",
        "edges = set()\n",
        "\n",
        "for v, nbs in mst.items():\n",
        "  for nb, w in nbs:\n",
        "    if (nb, v) not in edges or (v, nb) not in edges:\n",
        "      edges.add((v, nb))\n",
        "      net.add_edge(v, nb, label=str(w))\n",
        "\n",
        "net.save_graph('g.html')\n",
        "HTML(filename='g.html')"
      ]
    },
    {
      "cell_type": "code",
      "execution_count": 14,
      "metadata": {
        "colab": {
          "base_uri": "https://localhost:8080/"
        },
        "id": "GurhB7RaZwJU",
        "outputId": "fcfa3e10-ee2c-44bc-94d3-b54d6b75a9d8"
      },
      "outputs": [
        {
          "ename": "FileNotFoundError",
          "evalue": "[Errno 2] No such file or directory: '3980.edges'",
          "output_type": "error",
          "traceback": [
            "\u001b[1;31m---------------------------------------------------------------------------\u001b[0m",
            "\u001b[1;31mFileNotFoundError\u001b[0m                         Traceback (most recent call last)",
            "Cell \u001b[1;32mIn[14], line 2\u001b[0m\n\u001b[0;32m      1\u001b[0m dadj \u001b[38;5;241m=\u001b[39m \u001b[38;5;28mdict\u001b[39m()\n\u001b[1;32m----> 2\u001b[0m \u001b[38;5;28;01mwith\u001b[39;00m \u001b[38;5;28;43mopen\u001b[39;49m\u001b[43m(\u001b[49m\u001b[38;5;124;43m'\u001b[39;49m\u001b[38;5;124;43m3980.edges\u001b[39;49m\u001b[38;5;124;43m'\u001b[39;49m\u001b[43m,\u001b[49m\u001b[43m \u001b[49m\u001b[38;5;124;43m'\u001b[39;49m\u001b[38;5;124;43mr\u001b[39;49m\u001b[38;5;124;43m'\u001b[39;49m\u001b[43m)\u001b[49m \u001b[38;5;28;01mas\u001b[39;00m f:\n\u001b[0;32m      3\u001b[0m   lines \u001b[38;5;241m=\u001b[39m [[\u001b[38;5;28mint\u001b[39m(words) \u001b[38;5;28;01mfor\u001b[39;00m words \u001b[38;5;129;01min\u001b[39;00m line\u001b[38;5;241m.\u001b[39msplit()] \u001b[38;5;28;01mfor\u001b[39;00m line \u001b[38;5;129;01min\u001b[39;00m f\u001b[38;5;241m.\u001b[39mreadlines()]\n\u001b[0;32m      5\u001b[0m \u001b[38;5;28;01mfor\u001b[39;00m edge \u001b[38;5;129;01min\u001b[39;00m lines:\n",
            "File \u001b[1;32m~\\AppData\\Roaming\\Python\\Python312\\site-packages\\IPython\\core\\interactiveshell.py:324\u001b[0m, in \u001b[0;36m_modified_open\u001b[1;34m(file, *args, **kwargs)\u001b[0m\n\u001b[0;32m    317\u001b[0m \u001b[38;5;28;01mif\u001b[39;00m file \u001b[38;5;129;01min\u001b[39;00m {\u001b[38;5;241m0\u001b[39m, \u001b[38;5;241m1\u001b[39m, \u001b[38;5;241m2\u001b[39m}:\n\u001b[0;32m    318\u001b[0m     \u001b[38;5;28;01mraise\u001b[39;00m \u001b[38;5;167;01mValueError\u001b[39;00m(\n\u001b[0;32m    319\u001b[0m         \u001b[38;5;124mf\u001b[39m\u001b[38;5;124m\"\u001b[39m\u001b[38;5;124mIPython won\u001b[39m\u001b[38;5;124m'\u001b[39m\u001b[38;5;124mt let you open fd=\u001b[39m\u001b[38;5;132;01m{\u001b[39;00mfile\u001b[38;5;132;01m}\u001b[39;00m\u001b[38;5;124m by default \u001b[39m\u001b[38;5;124m\"\u001b[39m\n\u001b[0;32m    320\u001b[0m         \u001b[38;5;124m\"\u001b[39m\u001b[38;5;124mas it is likely to crash IPython. If you know what you are doing, \u001b[39m\u001b[38;5;124m\"\u001b[39m\n\u001b[0;32m    321\u001b[0m         \u001b[38;5;124m\"\u001b[39m\u001b[38;5;124myou can use builtins\u001b[39m\u001b[38;5;124m'\u001b[39m\u001b[38;5;124m open.\u001b[39m\u001b[38;5;124m\"\u001b[39m\n\u001b[0;32m    322\u001b[0m     )\n\u001b[1;32m--> 324\u001b[0m \u001b[38;5;28;01mreturn\u001b[39;00m \u001b[43mio_open\u001b[49m\u001b[43m(\u001b[49m\u001b[43mfile\u001b[49m\u001b[43m,\u001b[49m\u001b[43m \u001b[49m\u001b[38;5;241;43m*\u001b[39;49m\u001b[43margs\u001b[49m\u001b[43m,\u001b[49m\u001b[43m \u001b[49m\u001b[38;5;241;43m*\u001b[39;49m\u001b[38;5;241;43m*\u001b[39;49m\u001b[43mkwargs\u001b[49m\u001b[43m)\u001b[49m\n",
            "\u001b[1;31mFileNotFoundError\u001b[0m: [Errno 2] No such file or directory: '3980.edges'"
          ]
        }
      ],
      "source": [
        "dadj = dict()\n",
        "with open('3980.edges', 'r') as f:\n",
        "  lines = [[int(words) for words in line.split()] for line in f.readlines()]\n",
        "\n",
        "for edge in lines:\n",
        "  if randint(0, 2) > 0:\n",
        "    continue\n",
        "  a, b = edge\n",
        "  if a in dadj:\n",
        "    dadj[a].append(b)\n",
        "  else:\n",
        "    dadj[a] = [b]\n",
        "\n",
        "print(dadj)"
      ]
    },
    {
      "cell_type": "code",
      "execution_count": 15,
      "metadata": {
        "colab": {
          "base_uri": "https://localhost:8080/",
          "height": 627
        },
        "id": "NhA7FBjCaJ_L",
        "outputId": "c90e1896-01e6-41e4-ebb8-30a19dfbf7fc"
      },
      "outputs": [
        {
          "ename": "UnicodeEncodeError",
          "evalue": "'charmap' codec can't encode characters in position 263607-263621: character maps to <undefined>",
          "output_type": "error",
          "traceback": [
            "\u001b[1;31m---------------------------------------------------------------------------\u001b[0m",
            "\u001b[1;31mUnicodeEncodeError\u001b[0m                        Traceback (most recent call last)",
            "Cell \u001b[1;32mIn[15], line 16\u001b[0m\n\u001b[0;32m     13\u001b[0m       edges\u001b[38;5;241m.\u001b[39madd((v, nb))\n\u001b[0;32m     14\u001b[0m       net\u001b[38;5;241m.\u001b[39madd_edge(v, nb)\n\u001b[1;32m---> 16\u001b[0m \u001b[43mnet\u001b[49m\u001b[38;5;241;43m.\u001b[39;49m\u001b[43msave_graph\u001b[49m\u001b[43m(\u001b[49m\u001b[38;5;124;43m'\u001b[39;49m\u001b[38;5;124;43mg.html\u001b[39;49m\u001b[38;5;124;43m'\u001b[39;49m\u001b[43m)\u001b[49m\n\u001b[0;32m     17\u001b[0m HTML(filename\u001b[38;5;241m=\u001b[39m\u001b[38;5;124m'\u001b[39m\u001b[38;5;124mg.html\u001b[39m\u001b[38;5;124m'\u001b[39m)\n",
            "File \u001b[1;32mc:\\Users\\Marcos\\AppData\\Local\\Programs\\Python\\Python312\\Lib\\site-packages\\pyvis\\network.py:438\u001b[0m, in \u001b[0;36mNetwork.save_graph\u001b[1;34m(self, name)\u001b[0m\n\u001b[0;32m    431\u001b[0m \u001b[38;5;250m\u001b[39m\u001b[38;5;124;03m\"\"\"\u001b[39;00m\n\u001b[0;32m    432\u001b[0m \u001b[38;5;124;03mSave the graph as html in the current directory with name.\u001b[39;00m\n\u001b[0;32m    433\u001b[0m \n\u001b[0;32m    434\u001b[0m \u001b[38;5;124;03m:param name: the name of the html file to save as\u001b[39;00m\n\u001b[0;32m    435\u001b[0m \u001b[38;5;124;03m:type name: str\u001b[39;00m\n\u001b[0;32m    436\u001b[0m \u001b[38;5;124;03m\"\"\"\u001b[39;00m\n\u001b[0;32m    437\u001b[0m check_html(name)\n\u001b[1;32m--> 438\u001b[0m \u001b[38;5;28;43mself\u001b[39;49m\u001b[38;5;241;43m.\u001b[39;49m\u001b[43mwrite_html\u001b[49m\u001b[43m(\u001b[49m\u001b[43mname\u001b[49m\u001b[43m)\u001b[49m\n",
            "File \u001b[1;32mc:\\Users\\Marcos\\AppData\\Local\\Programs\\Python\\Python312\\Lib\\site-packages\\pyvis\\network.py:530\u001b[0m, in \u001b[0;36mNetwork.write_html\u001b[1;34m(self, name, local, notebook, open_browser)\u001b[0m\n\u001b[0;32m    528\u001b[0m \u001b[38;5;28;01melif\u001b[39;00m \u001b[38;5;28mself\u001b[39m\u001b[38;5;241m.\u001b[39mcdn_resources \u001b[38;5;241m==\u001b[39m \u001b[38;5;124m\"\u001b[39m\u001b[38;5;124min_line\u001b[39m\u001b[38;5;124m\"\u001b[39m \u001b[38;5;129;01mor\u001b[39;00m \u001b[38;5;28mself\u001b[39m\u001b[38;5;241m.\u001b[39mcdn_resources \u001b[38;5;241m==\u001b[39m \u001b[38;5;124m\"\u001b[39m\u001b[38;5;124mremote\u001b[39m\u001b[38;5;124m\"\u001b[39m:\n\u001b[0;32m    529\u001b[0m     \u001b[38;5;28;01mwith\u001b[39;00m \u001b[38;5;28mopen\u001b[39m(getcwd_name, \u001b[38;5;124m\"\u001b[39m\u001b[38;5;124mw+\u001b[39m\u001b[38;5;124m\"\u001b[39m) \u001b[38;5;28;01mas\u001b[39;00m out:\n\u001b[1;32m--> 530\u001b[0m         \u001b[43mout\u001b[49m\u001b[38;5;241;43m.\u001b[39;49m\u001b[43mwrite\u001b[49m\u001b[43m(\u001b[49m\u001b[38;5;28;43mself\u001b[39;49m\u001b[38;5;241;43m.\u001b[39;49m\u001b[43mhtml\u001b[49m\u001b[43m)\u001b[49m\n\u001b[0;32m    531\u001b[0m \u001b[38;5;28;01melse\u001b[39;00m:\n\u001b[0;32m    532\u001b[0m     \u001b[38;5;28;01massert\u001b[39;00m \u001b[38;5;124m\"\u001b[39m\u001b[38;5;124mcdn_resources is not in [\u001b[39m\u001b[38;5;124m'\u001b[39m\u001b[38;5;124min_line\u001b[39m\u001b[38;5;124m'\u001b[39m\u001b[38;5;124m,\u001b[39m\u001b[38;5;124m'\u001b[39m\u001b[38;5;124mremote\u001b[39m\u001b[38;5;124m'\u001b[39m\u001b[38;5;124m,\u001b[39m\u001b[38;5;124m'\u001b[39m\u001b[38;5;124mlocal\u001b[39m\u001b[38;5;124m'\u001b[39m\u001b[38;5;124m].\u001b[39m\u001b[38;5;124m\"\u001b[39m\n",
            "File \u001b[1;32mc:\\Users\\Marcos\\AppData\\Local\\Programs\\Python\\Python312\\Lib\\encodings\\cp1252.py:19\u001b[0m, in \u001b[0;36mIncrementalEncoder.encode\u001b[1;34m(self, input, final)\u001b[0m\n\u001b[0;32m     18\u001b[0m \u001b[38;5;28;01mdef\u001b[39;00m \u001b[38;5;21mencode\u001b[39m(\u001b[38;5;28mself\u001b[39m, \u001b[38;5;28minput\u001b[39m, final\u001b[38;5;241m=\u001b[39m\u001b[38;5;28;01mFalse\u001b[39;00m):\n\u001b[1;32m---> 19\u001b[0m     \u001b[38;5;28;01mreturn\u001b[39;00m \u001b[43mcodecs\u001b[49m\u001b[38;5;241;43m.\u001b[39;49m\u001b[43mcharmap_encode\u001b[49m\u001b[43m(\u001b[49m\u001b[38;5;28;43minput\u001b[39;49m\u001b[43m,\u001b[49m\u001b[38;5;28;43mself\u001b[39;49m\u001b[38;5;241;43m.\u001b[39;49m\u001b[43merrors\u001b[49m\u001b[43m,\u001b[49m\u001b[43mencoding_table\u001b[49m\u001b[43m)\u001b[49m[\u001b[38;5;241m0\u001b[39m]\n",
            "\u001b[1;31mUnicodeEncodeError\u001b[0m: 'charmap' codec can't encode characters in position 263607-263621: character maps to <undefined>"
          ]
        }
      ],
      "source": [
        "net = Network(notebook=True, directed=True, cdn_resources='in_line')\n",
        "\n",
        "for node, nbs in dadj.items():\n",
        "  net.add_node(node, label=str(node))\n",
        "  for nb in nbs:\n",
        "    net.add_node(nb, label=str(nb))\n",
        "\n",
        "edges = set()\n",
        "\n",
        "for v, nbs in dadj.items():\n",
        "  for nb in nbs:\n",
        "    if (nb, v) not in edges or (v, nb) not in edges:\n",
        "      edges.add((v, nb))\n",
        "      net.add_edge(v, nb)\n",
        "\n",
        "net.save_graph('g.html')\n",
        "HTML(filename='g.html')"
      ]
    },
    {
      "cell_type": "code",
      "execution_count": null,
      "metadata": {
        "colab": {
          "base_uri": "https://localhost:8080/"
        },
        "id": "gPy7Iol5asQ2",
        "outputId": "a950ee33-4f25-43ac-8708-6b03e7777264"
      },
      "outputs": [
        {
          "name": "stdout",
          "output_type": "stream",
          "text": [
            "[[4007], [4006], [4033], [4025, 4016], [4029], [4001], [3996], [4028], [3985, 3995], [4013], [4032], [4027], [4002, 4023, 3982, 4021, 3997, 3994, 4009, 4030, 4000, 4026, 3986, 4014, 4017, 3992, 4019, 3981, 3998, 3988, 4034], [4003], [4005], [3999], [4036], [4018], [4020, 4031, 594, 4004, 4038], [3989, 4011], [4037]] 21\n"
          ]
        }
      ],
      "source": [
        "def dfs(graph, node, visited, stack):\n",
        "    visited.add(node)\n",
        "    for neighbor in graph.get(node, []):\n",
        "        if neighbor not in visited:\n",
        "            dfs(graph, neighbor, visited, stack)\n",
        "    stack.append(node)\n",
        "\n",
        "def dfs_transpose(graph, node, visited, component):\n",
        "    visited.add(node)\n",
        "    component.append(node)\n",
        "    for neighbor in graph.get(node, []):\n",
        "        if neighbor not in visited:\n",
        "            dfs_transpose(graph, neighbor, visited, component)\n",
        "\n",
        "def kosaraju(graph):\n",
        "    num_nodes = len(set([node for node in graph] + [nb for nbs in graph.values() for nb in nbs]))\n",
        "    visited = set()\n",
        "    stack = []\n",
        "\n",
        "    for node in graph:\n",
        "        if node not in visited:\n",
        "            dfs(graph, node, visited, stack)\n",
        "\n",
        "    transpose_graph = {}\n",
        "    for u in graph:\n",
        "        for v in graph.get(u, []):\n",
        "            if v not in transpose_graph:\n",
        "                transpose_graph[v] = []\n",
        "            transpose_graph[v].append(u)\n",
        "\n",
        "    visited = set()\n",
        "    strongly_connected_components = []\n",
        "\n",
        "    while stack:\n",
        "        node = stack.pop()\n",
        "        if node not in visited:\n",
        "            component = []\n",
        "            dfs_transpose(transpose_graph, node, visited, component)\n",
        "            strongly_connected_components.append(component)\n",
        "\n",
        "    return strongly_connected_components\n",
        "\n",
        "scc = kosaraju(dadj)\n",
        "print(scc, len(scc))"
      ]
    },
    {
      "cell_type": "code",
      "execution_count": 16,
      "metadata": {
        "colab": {
          "base_uri": "https://localhost:8080/"
        },
        "id": "_HN8mu2RbYdY",
        "outputId": "7905d2c5-0454-402c-9be2-4537e91f81df"
      },
      "outputs": [
        {
          "ename": "NameError",
          "evalue": "name 'kosaraju' is not defined",
          "output_type": "error",
          "traceback": [
            "\u001b[1;31m---------------------------------------------------------------------------\u001b[0m",
            "\u001b[1;31mNameError\u001b[0m                                 Traceback (most recent call last)",
            "Cell \u001b[1;32mIn[16], line 25\u001b[0m\n\u001b[0;32m      1\u001b[0m hex_colors \u001b[38;5;241m=\u001b[39m [\n\u001b[0;32m      2\u001b[0m     \u001b[38;5;124m\"\u001b[39m\u001b[38;5;124m#FF0000\u001b[39m\u001b[38;5;124m\"\u001b[39m,  \u001b[38;5;66;03m# Red\u001b[39;00m\n\u001b[0;32m      3\u001b[0m     \u001b[38;5;124m\"\u001b[39m\u001b[38;5;124m#00FF00\u001b[39m\u001b[38;5;124m\"\u001b[39m,  \u001b[38;5;66;03m# Green\u001b[39;00m\n\u001b[1;32m   (...)\u001b[0m\n\u001b[0;32m     22\u001b[0m     \u001b[38;5;124m\"\u001b[39m\u001b[38;5;124m#20B2AA\u001b[39m\u001b[38;5;124m\"\u001b[39m   \u001b[38;5;66;03m# LightSeaGreen\u001b[39;00m\n\u001b[0;32m     23\u001b[0m ]\n\u001b[1;32m---> 25\u001b[0m scc \u001b[38;5;241m=\u001b[39m \u001b[43mkosaraju\u001b[49m(dadj)\n\u001b[0;32m     26\u001b[0m color \u001b[38;5;241m=\u001b[39m \u001b[38;5;28mdict\u001b[39m()\n\u001b[0;32m     27\u001b[0m \u001b[38;5;28;01mfor\u001b[39;00m i, comp \u001b[38;5;129;01min\u001b[39;00m \u001b[38;5;28menumerate\u001b[39m(scc):\n",
            "\u001b[1;31mNameError\u001b[0m: name 'kosaraju' is not defined"
          ]
        }
      ],
      "source": [
        "hex_colors = [\n",
        "    \"#FF0000\",  # Red\n",
        "    \"#00FF00\",  # Green\n",
        "    \"#0000FF\",  # Blue\n",
        "    \"#FFFF00\",  # Yellow\n",
        "    \"#000000\",  # Black\n",
        "    \"#FFFFFF\",  # White\n",
        "    \"#808080\",  # Gray\n",
        "    \"#FFA500\",  # Orange\n",
        "    \"#800080\",  # Purple\n",
        "    \"#FFC0CB\",  # Pink\n",
        "    \"#00FFFF\",  # Cyan\n",
        "    \"#FF00FF\",  # Magenta\n",
        "    \"#A52A2A\",  # Brown\n",
        "    \"#FFD700\",  # Gold\n",
        "    \"#C0C0C0\",  # Silver\n",
        "    \"#8B4513\",  # SaddleBrown\n",
        "    \"#6A5ACD\",  # SlateBlue\n",
        "    \"#B22222\",  # FireBrick\n",
        "    \"#FF6347\",  # Tomato\n",
        "    \"#ADFF2F\",  # GreenYellow\n",
        "    \"#20B2AA\"   # LightSeaGreen\n",
        "]\n",
        "\n",
        "scc = kosaraju(dadj)\n",
        "color = dict()\n",
        "for i, comp in enumerate(scc):\n",
        "  for node in comp:\n",
        "    color[node] = hex_colors[i % len(hex_colors)]\n",
        "print(color)"
      ]
    },
    {
      "cell_type": "code",
      "execution_count": 17,
      "metadata": {
        "colab": {
          "base_uri": "https://localhost:8080/",
          "height": 627
        },
        "id": "uMgNi-unbtK3",
        "outputId": "e894cd4f-cf8e-437c-a4d1-1f7381954d3b"
      },
      "outputs": [
        {
          "ename": "UnicodeEncodeError",
          "evalue": "'charmap' codec can't encode characters in position 263607-263621: character maps to <undefined>",
          "output_type": "error",
          "traceback": [
            "\u001b[1;31m---------------------------------------------------------------------------\u001b[0m",
            "\u001b[1;31mUnicodeEncodeError\u001b[0m                        Traceback (most recent call last)",
            "Cell \u001b[1;32mIn[17], line 16\u001b[0m\n\u001b[0;32m     13\u001b[0m       edges\u001b[38;5;241m.\u001b[39madd((v, nb))\n\u001b[0;32m     14\u001b[0m       net\u001b[38;5;241m.\u001b[39madd_edge(v, nb)\n\u001b[1;32m---> 16\u001b[0m \u001b[43mnet\u001b[49m\u001b[38;5;241;43m.\u001b[39;49m\u001b[43msave_graph\u001b[49m\u001b[43m(\u001b[49m\u001b[38;5;124;43m'\u001b[39;49m\u001b[38;5;124;43mg.html\u001b[39;49m\u001b[38;5;124;43m'\u001b[39;49m\u001b[43m)\u001b[49m\n\u001b[0;32m     17\u001b[0m HTML(filename\u001b[38;5;241m=\u001b[39m\u001b[38;5;124m'\u001b[39m\u001b[38;5;124mg.html\u001b[39m\u001b[38;5;124m'\u001b[39m)\n",
            "File \u001b[1;32mc:\\Users\\Marcos\\AppData\\Local\\Programs\\Python\\Python312\\Lib\\site-packages\\pyvis\\network.py:438\u001b[0m, in \u001b[0;36mNetwork.save_graph\u001b[1;34m(self, name)\u001b[0m\n\u001b[0;32m    431\u001b[0m \u001b[38;5;250m\u001b[39m\u001b[38;5;124;03m\"\"\"\u001b[39;00m\n\u001b[0;32m    432\u001b[0m \u001b[38;5;124;03mSave the graph as html in the current directory with name.\u001b[39;00m\n\u001b[0;32m    433\u001b[0m \n\u001b[0;32m    434\u001b[0m \u001b[38;5;124;03m:param name: the name of the html file to save as\u001b[39;00m\n\u001b[0;32m    435\u001b[0m \u001b[38;5;124;03m:type name: str\u001b[39;00m\n\u001b[0;32m    436\u001b[0m \u001b[38;5;124;03m\"\"\"\u001b[39;00m\n\u001b[0;32m    437\u001b[0m check_html(name)\n\u001b[1;32m--> 438\u001b[0m \u001b[38;5;28;43mself\u001b[39;49m\u001b[38;5;241;43m.\u001b[39;49m\u001b[43mwrite_html\u001b[49m\u001b[43m(\u001b[49m\u001b[43mname\u001b[49m\u001b[43m)\u001b[49m\n",
            "File \u001b[1;32mc:\\Users\\Marcos\\AppData\\Local\\Programs\\Python\\Python312\\Lib\\site-packages\\pyvis\\network.py:530\u001b[0m, in \u001b[0;36mNetwork.write_html\u001b[1;34m(self, name, local, notebook, open_browser)\u001b[0m\n\u001b[0;32m    528\u001b[0m \u001b[38;5;28;01melif\u001b[39;00m \u001b[38;5;28mself\u001b[39m\u001b[38;5;241m.\u001b[39mcdn_resources \u001b[38;5;241m==\u001b[39m \u001b[38;5;124m\"\u001b[39m\u001b[38;5;124min_line\u001b[39m\u001b[38;5;124m\"\u001b[39m \u001b[38;5;129;01mor\u001b[39;00m \u001b[38;5;28mself\u001b[39m\u001b[38;5;241m.\u001b[39mcdn_resources \u001b[38;5;241m==\u001b[39m \u001b[38;5;124m\"\u001b[39m\u001b[38;5;124mremote\u001b[39m\u001b[38;5;124m\"\u001b[39m:\n\u001b[0;32m    529\u001b[0m     \u001b[38;5;28;01mwith\u001b[39;00m \u001b[38;5;28mopen\u001b[39m(getcwd_name, \u001b[38;5;124m\"\u001b[39m\u001b[38;5;124mw+\u001b[39m\u001b[38;5;124m\"\u001b[39m) \u001b[38;5;28;01mas\u001b[39;00m out:\n\u001b[1;32m--> 530\u001b[0m         \u001b[43mout\u001b[49m\u001b[38;5;241;43m.\u001b[39;49m\u001b[43mwrite\u001b[49m\u001b[43m(\u001b[49m\u001b[38;5;28;43mself\u001b[39;49m\u001b[38;5;241;43m.\u001b[39;49m\u001b[43mhtml\u001b[49m\u001b[43m)\u001b[49m\n\u001b[0;32m    531\u001b[0m \u001b[38;5;28;01melse\u001b[39;00m:\n\u001b[0;32m    532\u001b[0m     \u001b[38;5;28;01massert\u001b[39;00m \u001b[38;5;124m\"\u001b[39m\u001b[38;5;124mcdn_resources is not in [\u001b[39m\u001b[38;5;124m'\u001b[39m\u001b[38;5;124min_line\u001b[39m\u001b[38;5;124m'\u001b[39m\u001b[38;5;124m,\u001b[39m\u001b[38;5;124m'\u001b[39m\u001b[38;5;124mremote\u001b[39m\u001b[38;5;124m'\u001b[39m\u001b[38;5;124m,\u001b[39m\u001b[38;5;124m'\u001b[39m\u001b[38;5;124mlocal\u001b[39m\u001b[38;5;124m'\u001b[39m\u001b[38;5;124m].\u001b[39m\u001b[38;5;124m\"\u001b[39m\n",
            "File \u001b[1;32mc:\\Users\\Marcos\\AppData\\Local\\Programs\\Python\\Python312\\Lib\\encodings\\cp1252.py:19\u001b[0m, in \u001b[0;36mIncrementalEncoder.encode\u001b[1;34m(self, input, final)\u001b[0m\n\u001b[0;32m     18\u001b[0m \u001b[38;5;28;01mdef\u001b[39;00m \u001b[38;5;21mencode\u001b[39m(\u001b[38;5;28mself\u001b[39m, \u001b[38;5;28minput\u001b[39m, final\u001b[38;5;241m=\u001b[39m\u001b[38;5;28;01mFalse\u001b[39;00m):\n\u001b[1;32m---> 19\u001b[0m     \u001b[38;5;28;01mreturn\u001b[39;00m \u001b[43mcodecs\u001b[49m\u001b[38;5;241;43m.\u001b[39;49m\u001b[43mcharmap_encode\u001b[49m\u001b[43m(\u001b[49m\u001b[38;5;28;43minput\u001b[39;49m\u001b[43m,\u001b[49m\u001b[38;5;28;43mself\u001b[39;49m\u001b[38;5;241;43m.\u001b[39;49m\u001b[43merrors\u001b[49m\u001b[43m,\u001b[49m\u001b[43mencoding_table\u001b[49m\u001b[43m)\u001b[49m[\u001b[38;5;241m0\u001b[39m]\n",
            "\u001b[1;31mUnicodeEncodeError\u001b[0m: 'charmap' codec can't encode characters in position 263607-263621: character maps to <undefined>"
          ]
        }
      ],
      "source": [
        "net = Network(notebook=True, directed=True, cdn_resources='in_line')\n",
        "\n",
        "for node, nbs in dadj.items():\n",
        "  net.add_node(node, label=str(node), color=color[node])\n",
        "  for nb in nbs:\n",
        "    net.add_node(nb, label=str(nb), color=color[nb])\n",
        "\n",
        "edges = set()\n",
        "\n",
        "for v, nbs in dadj.items():\n",
        "  for nb in nbs:\n",
        "    if (nb, v) not in edges or (v, nb) not in edges:\n",
        "      edges.add((v, nb))\n",
        "      net.add_edge(v, nb)\n",
        "\n",
        "net.save_graph('g.html')\n",
        "HTML(filename='g.html')"
      ]
    },
    {
      "cell_type": "code",
      "execution_count": null,
      "metadata": {
        "colab": {
          "base_uri": "https://localhost:8080/"
        },
        "id": "6e0ik-3xc9e7",
        "outputId": "83743e3c-3b91-4455-f584-71ecfb39d7a2"
      },
      "outputs": [
        {
          "name": "stdout",
          "output_type": "stream",
          "text": [
            "{0: [(1, 12), (2, 15), (3, 7), (4, 4)], 1: [(2, 6), (3, 18), (4, 11), (5, 3)], 2: [(3, 14), (4, 8), (5, 17), (6, 9)], 3: [(5, 4), (6, 16)], 4: [(5, 19), (6, 2), (7, 13)], 5: [(7, 11), (8, 6), (18, 2)], 6: [(8, 19), (9, 8)], 7: [(10, 16)], 8: [(10, 14)], 9: [(11, 7)], 10: [(11, 15), (12, 3)], 11: [(12, 9)], 12: [(13, 18), (14, 4)], 13: [(15, 12)], 14: [(15, 17)], 15: [(16, 14)], 16: [(17, 6), (19, 2)], 17: [(18, 15)], 18: [(19, 11)]}\n"
          ]
        }
      ],
      "source": [
        "mf = dict()\n",
        "with open('max_flow.txt', 'r') as f:\n",
        "  lines = [[int(words) for words in line.split()] for line in f.readlines()]\n",
        "\n",
        "for edge in lines:\n",
        "  a, b, w = edge\n",
        "  if a in mf:\n",
        "    mf[a].append((b, w))\n",
        "  else:\n",
        "    mf[a] = [(b, w)]\n",
        "\n",
        "print(mf)"
      ]
    },
    {
      "cell_type": "code",
      "execution_count": 18,
      "metadata": {
        "colab": {
          "base_uri": "https://localhost:8080/",
          "height": 627
        },
        "id": "A1FKfC-pdLes",
        "outputId": "5c05f0a5-924d-461f-f60a-c6c608e6c08b"
      },
      "outputs": [
        {
          "ename": "NameError",
          "evalue": "name 'mf' is not defined",
          "output_type": "error",
          "traceback": [
            "\u001b[1;31m---------------------------------------------------------------------------\u001b[0m",
            "\u001b[1;31mNameError\u001b[0m                                 Traceback (most recent call last)",
            "Cell \u001b[1;32mIn[18], line 3\u001b[0m\n\u001b[0;32m      1\u001b[0m net \u001b[38;5;241m=\u001b[39m Network(notebook\u001b[38;5;241m=\u001b[39m\u001b[38;5;28;01mTrue\u001b[39;00m, directed\u001b[38;5;241m=\u001b[39m\u001b[38;5;28;01mTrue\u001b[39;00m, cdn_resources\u001b[38;5;241m=\u001b[39m\u001b[38;5;124m'\u001b[39m\u001b[38;5;124min_line\u001b[39m\u001b[38;5;124m'\u001b[39m)\n\u001b[1;32m----> 3\u001b[0m \u001b[38;5;28;01mfor\u001b[39;00m node, nbs \u001b[38;5;129;01min\u001b[39;00m \u001b[43mmf\u001b[49m\u001b[38;5;241m.\u001b[39mitems():\n\u001b[0;32m      4\u001b[0m   net\u001b[38;5;241m.\u001b[39madd_node(node, label\u001b[38;5;241m=\u001b[39m\u001b[38;5;28mstr\u001b[39m(node))\n\u001b[0;32m      5\u001b[0m   \u001b[38;5;28;01mfor\u001b[39;00m nb, w \u001b[38;5;129;01min\u001b[39;00m nbs:\n",
            "\u001b[1;31mNameError\u001b[0m: name 'mf' is not defined"
          ]
        }
      ],
      "source": [
        "net = Network(notebook=True, directed=True, cdn_resources='in_line')\n",
        "\n",
        "for node, nbs in mf.items():\n",
        "  net.add_node(node, label=str(node))\n",
        "  for nb, w in nbs:\n",
        "    net.add_node(nb, label=str(nb))\n",
        "\n",
        "edges = set()\n",
        "\n",
        "for v, nbs in mf.items():\n",
        "  for nb, w in nbs:\n",
        "    if (nb, v) not in edges or (v, nb) not in edges:\n",
        "      edges.add((v, nb))\n",
        "      net.add_edge(v, nb, label=str(w))\n",
        "\n",
        "net.save_graph('g.html')\n",
        "HTML(filename='g.html')"
      ]
    },
    {
      "cell_type": "code",
      "execution_count": 19,
      "metadata": {
        "id": "Z7FfBMpedrUU"
      },
      "outputs": [],
      "source": [
        "def ford_fulkerson(graph, source, sink):\n",
        "    flow = 0\n",
        "    residual_graph = {node: {neighbor: capacity for neighbor, capacity in neighbors}\n",
        "                     for node, neighbors in graph.items()}\n",
        "\n",
        "    while True:\n",
        "        path = bfs(residual_graph, source, sink)\n",
        "        if not path:\n",
        "            break\n",
        "\n",
        "        path_flow = float('inf')\n",
        "        for u, v in zip(path[:-1], path[1:]):\n",
        "            path_flow = min(path_flow, residual_graph[u][v])\n",
        "\n",
        "        for u, v in zip(path[:-1], path[1:]):\n",
        "            residual_graph[u][v] -= path_flow\n",
        "            if v in residual_graph and u in residual_graph[v]:\n",
        "                residual_graph[v][u] += path_flow\n",
        "            else:\n",
        "                if v not in residual_graph:\n",
        "                  residual_graph[v] = dict()\n",
        "                residual_graph[v][u] = path_flow\n",
        "\n",
        "        flow += path_flow\n",
        "\n",
        "    return flow, residual_graph\n",
        "\n",
        "\n",
        "def bfs(graph, source, sink):\n",
        "    queue = [(source, [source])]\n",
        "    visited = set()\n",
        "\n",
        "    while queue:\n",
        "        (vertex, path) = queue.pop(0)\n",
        "        visited.add(vertex)\n",
        "        for neighbor, capacity in graph.get(vertex, {}).items():\n",
        "            if neighbor not in visited and capacity > 0:\n",
        "                if neighbor == sink:\n",
        "                    return path + [neighbor]\n",
        "                else:\n",
        "                    queue.append((neighbor, path + [neighbor]))\n",
        "\n",
        "    return None\n"
      ]
    },
    {
      "cell_type": "code",
      "execution_count": null,
      "metadata": {
        "colab": {
          "base_uri": "https://localhost:8080/"
        },
        "id": "7Das0b9Ed6y_",
        "outputId": "b40c90cf-94d4-4e97-c004-923f0bbb2090"
      },
      "outputs": [
        {
          "name": "stdout",
          "output_type": "stream",
          "text": [
            "10\n",
            "{0: {1: 10, 2: 10, 3: 7, 4: 1}, 1: {2: 6, 3: 18, 4: 11, 5: 1, 0: 2}, 2: {3: 14, 4: 8, 5: 17, 6: 4, 0: 5}, 3: {5: 4, 6: 16}, 4: {5: 19, 6: 2, 7: 10, 0: 3}, 5: {7: 11, 8: 6, 18: 0, 1: 2}, 6: {8: 19, 9: 3, 2: 5}, 7: {10: 13, 4: 3}, 8: {10: 14}, 9: {11: 2, 6: 5}, 10: {11: 15, 12: 0, 7: 3}, 11: {12: 4, 9: 5}, 12: {13: 10, 14: 4, 10: 3, 11: 5}, 13: {15: 4, 12: 8}, 14: {15: 17}, 15: {16: 6, 13: 8}, 16: {17: 0, 19: 0, 15: 8}, 17: {18: 9, 16: 6}, 18: {19: 3, 5: 2, 17: 6}, 19: {18: 8, 16: 2}}\n"
          ]
        }
      ],
      "source": [
        "max_flow, r = ford_fulkerson(mf, 0, 19)\n",
        "print(max_flow)\n",
        "print(r)"
      ]
    },
    {
      "cell_type": "code",
      "execution_count": 20,
      "metadata": {
        "colab": {
          "base_uri": "https://localhost:8080/",
          "height": 627
        },
        "id": "tJoknSK-eHiD",
        "outputId": "27bb1095-1280-4514-93dd-5ac3e4afa198"
      },
      "outputs": [
        {
          "ename": "NameError",
          "evalue": "name 'mf' is not defined",
          "output_type": "error",
          "traceback": [
            "\u001b[1;31m---------------------------------------------------------------------------\u001b[0m",
            "\u001b[1;31mNameError\u001b[0m                                 Traceback (most recent call last)",
            "Cell \u001b[1;32mIn[20], line 3\u001b[0m\n\u001b[0;32m      1\u001b[0m net \u001b[38;5;241m=\u001b[39m Network(notebook\u001b[38;5;241m=\u001b[39m\u001b[38;5;28;01mTrue\u001b[39;00m, directed\u001b[38;5;241m=\u001b[39m\u001b[38;5;28;01mTrue\u001b[39;00m, cdn_resources\u001b[38;5;241m=\u001b[39m\u001b[38;5;124m'\u001b[39m\u001b[38;5;124min_line\u001b[39m\u001b[38;5;124m'\u001b[39m)\n\u001b[1;32m----> 3\u001b[0m \u001b[38;5;28;01mfor\u001b[39;00m node, nbs \u001b[38;5;129;01min\u001b[39;00m \u001b[43mmf\u001b[49m\u001b[38;5;241m.\u001b[39mitems():\n\u001b[0;32m      4\u001b[0m   net\u001b[38;5;241m.\u001b[39madd_node(node, label\u001b[38;5;241m=\u001b[39m\u001b[38;5;28mstr\u001b[39m(node))\n\u001b[0;32m      5\u001b[0m   \u001b[38;5;28;01mfor\u001b[39;00m nb, w \u001b[38;5;129;01min\u001b[39;00m nbs:\n",
            "\u001b[1;31mNameError\u001b[0m: name 'mf' is not defined"
          ]
        }
      ],
      "source": [
        "net = Network(notebook=True, directed=True, cdn_resources='in_line')\n",
        "\n",
        "for node, nbs in mf.items():\n",
        "  net.add_node(node, label=str(node))\n",
        "  for nb, w in nbs:\n",
        "    net.add_node(nb, label=str(nb))\n",
        "\n",
        "edges = set()\n",
        "\n",
        "for v, nbs in mf.items():\n",
        "  for nb, w in nbs:\n",
        "    if (nb, v) not in edges or (v, nb) not in edges:\n",
        "      edges.add((v, nb))\n",
        "      net.add_edge(v, nb, value=w-r[v][nb], label=f\"{w-r[v][nb]}/{w}\")\n",
        "\n",
        "net.save_graph('g.html')\n",
        "HTML(filename='g.html')"
      ]
    }
  ],
  "metadata": {
    "colab": {
      "provenance": []
    },
    "kernelspec": {
      "display_name": "Python 3",
      "name": "python3"
    },
    "language_info": {
      "codemirror_mode": {
        "name": "ipython",
        "version": 3
      },
      "file_extension": ".py",
      "mimetype": "text/x-python",
      "name": "python",
      "nbconvert_exporter": "python",
      "pygments_lexer": "ipython3",
      "version": "3.12.5"
    }
  },
  "nbformat": 4,
  "nbformat_minor": 0
}
